{
 "cells": [
  {
   "cell_type": "code",
   "execution_count": null,
   "metadata": {
    "collapsed": true
   },
   "outputs": [],
   "source": [
    "from __future__ import print_function"
   ]
  },
  {
   "cell_type": "code",
   "execution_count": null,
   "metadata": {
    "collapsed": true
   },
   "outputs": [],
   "source": [
    "import os\n",
    "import json"
   ]
  },
  {
   "cell_type": "code",
   "execution_count": null,
   "metadata": {},
   "outputs": [],
   "source": [
    "with open('./models/config.json', 'r') as f:\n",
    "    config = json.load(f)\n",
    "    \n",
    "with open('./models/vocabulary/labels.txt', 'r') as f:\n",
    "    vocab = {word: i for i, word in enumerate(f.readlines())}\n",
    "    \n",
    "serialization_dir = './models'\n",
    "weights_file = './models/weights.th'"
   ]
  },
  {
   "cell_type": "code",
   "execution_count": null,
   "metadata": {},
   "outputs": [],
   "source": [
    "from text_field_embedder import TextFieldEmbedder\n",
    "from feedforward import FeedForward\n",
    "from similarity_function import SimilarityFunction\n",
    "from elmo_token_embedder import ElmoTokenEmbedder"
   ]
  },
  {
   "cell_type": "code",
   "execution_count": null,
   "metadata": {},
   "outputs": [],
   "source": [
    "params = config.pop('model')\n",
    "model_type = params.pop('type')\n",
    "initializers = params.pop('initializer')"
   ]
  },
  {
   "cell_type": "code",
   "execution_count": null,
   "metadata": {
    "collapsed": true
   },
   "outputs": [],
   "source": [
    "embedder_params = params.pop('text_field_embedder')\n",
    "token_embedders = {}\n",
    "for key, emb_params in embedder_params.items():\n",
    "    token_embedders[key] = ElmoTokenEmbedder(**emb_params)\n",
    "text_field_embedder = TextFieldEmbedder(token_embedders)"
   ]
  },
  {
   "cell_type": "code",
   "execution_count": null,
   "metadata": {
    "collapsed": true
   },
   "outputs": [],
   "source": [
    "attend_ff_params = params.pop('attend_feedforward')\n",
    "attend_feedforward = FeedForward(**attend_ff_params)"
   ]
  },
  {
   "cell_type": "code",
   "execution_count": null,
   "metadata": {
    "collapsed": true
   },
   "outputs": [],
   "source": [
    "similarity_func_params = params.pop('similarity_function')\n",
    "similarity_function = SimilarityFunction()"
   ]
  },
  {
   "cell_type": "code",
   "execution_count": null,
   "metadata": {
    "collapsed": true
   },
   "outputs": [],
   "source": [
    "compare_ff_params = params.pop('compare_feedforward')\n",
    "compare_feedforward = FeedForward(**compare_ff_params)"
   ]
  },
  {
   "cell_type": "code",
   "execution_count": null,
   "metadata": {
    "collapsed": true
   },
   "outputs": [],
   "source": [
    "aggregate_ff_params = params.pop('aggregate_feedforward')\n",
    "aggregate_feedforward = FeedForward(**aggregate_ff_params)"
   ]
  },
  {
   "cell_type": "code",
   "execution_count": null,
   "metadata": {
    "collapsed": true
   },
   "outputs": [],
   "source": [
    "from model import DecomposableAttention"
   ]
  },
  {
   "cell_type": "code",
   "execution_count": null,
   "metadata": {
    "collapsed": true
   },
   "outputs": [],
   "source": [
    "model = DecomposableAttention(vocab, text_field_embedder, attend_feedforward,\n",
    "                              similarity_function, compare_feedforward,\n",
    "                              aggregate_feedforward)\n",
    "model.load(serialization_dir, weights_file)"
   ]
  },
  {
   "cell_type": "code",
   "execution_count": null,
   "metadata": {
    "collapsed": true
   },
   "outputs": [],
   "source": [
    "import spacy\n",
    "nlp = spacy.load('en')"
   ]
  },
  {
   "cell_type": "code",
   "execution_count": null,
   "metadata": {
    "collapsed": true
   },
   "outputs": [],
   "source": [
    "def tokenize(text):\n",
    "    doc = nlp(text)\n",
    "    return [token for token in doc]"
   ]
  },
  {
   "cell_type": "code",
   "execution_count": null,
   "metadata": {
    "collapsed": true
   },
   "outputs": [],
   "source": [
    "p = 'If you help the needy, God will reward you.'\n",
    "h = 'Giving money to the poor has good consequences.'"
   ]
  },
  {
   "cell_type": "code",
   "execution_count": null,
   "metadata": {
    "collapsed": true
   },
   "outputs": [],
   "source": [
    "from elmo_indexer import ELMoTokenCharactersIndexer"
   ]
  },
  {
   "cell_type": "code",
   "execution_count": null,
   "metadata": {
    "collapsed": true
   },
   "outputs": [],
   "source": [
    "indexer = ELMoTokenCharactersIndexer()"
   ]
  },
  {
   "cell_type": "code",
   "execution_count": null,
   "metadata": {
    "collapsed": true
   },
   "outputs": [],
   "source": [
    "p_tokens = tokenize(p)\n",
    "h_tokens = tokenize(h)"
   ]
  },
  {
   "cell_type": "code",
   "execution_count": null,
   "metadata": {
    "collapsed": true
   },
   "outputs": [],
   "source": [
    "import torch\n",
    "from torch.autograd import Variable"
   ]
  },
  {
   "cell_type": "code",
   "execution_count": null,
   "metadata": {
    "collapsed": true
   },
   "outputs": [],
   "source": [
    "p_array = [indexer.token_to_indices(t, None) for t in p_tokens]\n",
    "h_array = [indexer.token_to_indices(t, None) for t in h_tokens]"
   ]
  },
  {
   "cell_type": "code",
   "execution_count": null,
   "metadata": {
    "collapsed": true
   },
   "outputs": [],
   "source": [
    "premise = {'elmo': Variable(torch.Tensor(p_array).type(torch.LongTensor))}\n",
    "hypothesis = {'elmo': Variable(torch.Tensor(h_array).type(torch.LongTensor))}"
   ]
  },
  {
   "cell_type": "code",
   "execution_count": null,
   "metadata": {
    "collapsed": true
   },
   "outputs": [],
   "source": [
    "outputs = model.forward(premise, hypothesis)"
   ]
  },
  {
   "cell_type": "code",
   "execution_count": null,
   "metadata": {
    "collapsed": true
   },
   "outputs": [],
   "source": [
    "preds = 100 * outputs['label_probs'].data.numpy()\n",
    "attn = outputs['p2h_attention'].data.numpy()"
   ]
  },
  {
   "cell_type": "code",
   "execution_count": null,
   "metadata": {
    "collapsed": true
   },
   "outputs": [],
   "source": [
    "import numpy as np\n",
    "import seaborn as sns\n",
    "import matplotlib.pylab as plt"
   ]
  },
  {
   "cell_type": "code",
   "execution_count": null,
   "metadata": {
    "collapsed": true
   },
   "outputs": [],
   "source": [
    "print('{}\\n\\n{}'.format(p, h))"
   ]
  },
  {
   "cell_type": "code",
   "execution_count": null,
   "metadata": {
    "collapsed": true
   },
   "outputs": [],
   "source": [
    "print('Agree: {:.2f}% \\nDisagree: {:.2f}% \\nUnrelated: {:.2f}%'.\n",
    "      format(preds[0], preds[1], preds[2]))"
   ]
  },
  {
   "cell_type": "code",
   "execution_count": null,
   "metadata": {
    "collapsed": true
   },
   "outputs": [],
   "source": [
    "ax = plt.subplots(figsize=(10, 6))\n",
    "ax = sns.heatmap(np.squeeze(attn), linewidth=0.5)\n",
    "ax.set_xticklabels(h_tokens)\n",
    "ax.set_yticklabels(p_tokens, rotation='horizontal')\n",
    "plt.show()"
   ]
  }
 ],
 "metadata": {
  "kernelspec": {
   "display_name": "Python 2",
   "language": "python",
   "name": "python2"
  },
  "language_info": {
   "codemirror_mode": {
    "name": "ipython",
    "version": 2
   },
   "file_extension": ".py",
   "mimetype": "text/x-python",
   "name": "python",
   "nbconvert_exporter": "python",
   "pygments_lexer": "ipython2",
   "version": "2.7.13"
  }
 },
 "nbformat": 4,
 "nbformat_minor": 2
}
